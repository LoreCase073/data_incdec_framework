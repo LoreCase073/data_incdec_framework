{
 "cells": [
  {
   "cell_type": "code",
   "execution_count": 76,
   "metadata": {},
   "outputs": [],
   "source": [
    "#imports to work with...\n",
    "import pandas as pd\n",
    "import matplotlib.pyplot as plt\n",
    "import numpy as np\n",
    "import os\n",
    "from torch.utils.data import DataLoader\n",
    "import torch\n",
    "import torchvision\n",
    "from torchvision import transforms\n",
    "from sklearn.metrics import confusion_matrix\n",
    "from sklearn.preprocessing import label_binarize\n",
    "from sklearn.manifold import TSNE\n",
    "\n",
    "from cl_framework.continual_learning.metrics.metric_evaluator_incdec import MetricEvaluatorIncDec\n",
    "from cl_framework.utilities.matrix_logger import IncDecLogger\n",
    "from torchmetrics import Recall\n",
    "from cl_framework.continual_learning.DataIncrementalDecrementalMethod import DataIncrementalDecrementalMethod"
   ]
  },
  {
   "cell_type": "code",
   "execution_count": 77,
   "metadata": {},
   "outputs": [],
   "source": [
    "# this is used later to create the class_to_idx\n",
    "def kinetics_classes(classes_csv):\n",
    "    df = pd.read_csv(classes_csv)\n",
    "    classes_behaviors = {}\n",
    "\n",
    "    for _, row in df.iterrows():\n",
    "        class_name = row['Class']\n",
    "        subcategory = row['Subcategory']\n",
    "        \n",
    "        # Check if the class_name is already in the dictionary, if not, create a new entry\n",
    "        if class_name not in classes_behaviors:\n",
    "            classes_behaviors[class_name] = []\n",
    "        \n",
    "        # Add the subcategory to the corresponding class_name entry in the dictionary\n",
    "        classes_behaviors[class_name].append(subcategory)\n",
    "\n",
    "    return classes_behaviors"
   ]
  },
  {
   "cell_type": "code",
   "execution_count": 78,
   "metadata": {},
   "outputs": [],
   "source": [
    "#create a mapping between classes - behaviors\n",
    "folder_csv = '../Kinetics/Info/'\n",
    "class_csv = os.path.join(folder_csv, 'classes.csv')\n",
    "classes_behaviors = kinetics_classes(class_csv)\n",
    "\n",
    "#create a index for each class -- {class: idx}\n",
    "class_to_idx = {key: i for i, key in enumerate(classes_behaviors.keys())}\n"
   ]
  },
  {
   "cell_type": "code",
   "execution_count": 79,
   "metadata": {},
   "outputs": [],
   "source": [
    "predictions_names = ['food', 'phone','smoking','fatigue','selfcare']\n",
    "\n",
    "all_behaviors_dict = {\n",
    "    'food': [\n",
    "        'eating burger', 'eating cake', 'eating carrots', 'eating chips', 'eating doughnuts',\n",
    "        'eating hotdog', 'eating ice cream', 'eating spaghetti', 'eating watermelon',\n",
    "        'sucking lolly', 'tasting beer', 'tasting food', 'tasting wine', 'sipping cup'\n",
    "    ],\n",
    "    'phone': [\n",
    "        'texting', 'talking on cell phone', 'looking at phone'\n",
    "    ],\n",
    "    'smoking': [\n",
    "        'smoking', 'smoking hookah', 'smoking pipe'\n",
    "    ],\n",
    "    'fatigue': [\n",
    "        'sleeping', 'yawning', 'headbanging', 'headbutting', 'shaking head'\n",
    "    ],\n",
    "    'selfcare': [\n",
    "        'scrubbing face', 'putting in contact lenses', 'putting on eyeliner', 'putting on foundation',\n",
    "        'putting on lipstick', 'putting on mascara', 'brushing hair', 'brushing teeth', 'braiding hair',\n",
    "        'combing hair', 'dyeing eyebrows', 'dyeing hair'\n",
    "    ]\n",
    "    }\n",
    "\n",
    "\n",
    "n_task = 6\n",
    "total_classes = 5"
   ]
  },
  {
   "cell_type": "code",
   "execution_count": null,
   "metadata": {},
   "outputs": [],
   "source": []
  }
 ],
 "metadata": {
  "kernelspec": {
   "display_name": "data_incdec",
   "language": "python",
   "name": "python3"
  },
  "language_info": {
   "codemirror_mode": {
    "name": "ipython",
    "version": 3
   },
   "file_extension": ".py",
   "mimetype": "text/x-python",
   "name": "python",
   "nbconvert_exporter": "python",
   "pygments_lexer": "ipython3",
   "version": "3.9.13"
  }
 },
 "nbformat": 4,
 "nbformat_minor": 2
}
