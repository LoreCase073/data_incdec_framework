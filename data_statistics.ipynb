{
 "cells": [
  {
   "cell_type": "code",
   "execution_count": 2,
   "metadata": {},
   "outputs": [],
   "source": [
    "#imports to work with...\n",
    "import pandas as pd\n",
    "import matplotlib as plt\n",
    "import numpy as np\n"
   ]
  },
  {
   "cell_type": "code",
   "execution_count": 3,
   "metadata": {},
   "outputs": [],
   "source": [
    "#load train from csv\n",
    "path_to_download_log = '../Kinetics/Download/attempt_14/download_log.csv'\n",
    "data_csv = pd.read_csv(path_to_download_log)\n",
    "\n"
   ]
  },
  {
   "cell_type": "code",
   "execution_count": 4,
   "metadata": {},
   "outputs": [],
   "source": [
    "#dict of classes and behaviors\n",
    "data_dict = {\n",
    "    'food': [\n",
    "        'eating burger', 'eating cake', 'eating carrots', 'eating chips', 'eating doughnuts',\n",
    "        'eating hotdog', 'eating ice cream', 'eating spaghetti', 'eating watermelon',\n",
    "        'sucking lolly', 'tasting beer', 'tasting food', 'tasting wine', 'sipping cup'\n",
    "    ],\n",
    "    'phone': [\n",
    "        'texting', 'talking on cell phone', 'looking at phone'\n",
    "    ],\n",
    "    'smoking': [\n",
    "        'smoking', 'smoking hookah', 'smoking pipe'\n",
    "    ],\n",
    "    'fatigue': [\n",
    "        'sleeping', 'yawning', 'headbanging', 'headbutting', 'shaking head'\n",
    "    ],\n",
    "    'selfcare': [\n",
    "        'scrubbing face', 'putting in contact lenses', 'putting on eyeliner', 'putting on foundation',\n",
    "        'putting on lipstick', 'putting on mascara', 'brushing hair', 'brushing teeth', 'braiding hair',\n",
    "        'combing hair', 'dyeing eyebrows', 'dyeing hair'\n",
    "    ]\n",
    "}"
   ]
  },
  {
   "cell_type": "code",
   "execution_count": 5,
   "metadata": {},
   "outputs": [],
   "source": [
    "data_behavior = {}\n",
    "data_classes = {}\n",
    "mean_behavior = {}\n",
    "tmp_mean_classes = {}\n",
    "\n",
    "#save classes\n",
    "for class_name, subcategories in data_dict.items():\n",
    "    data_classes[class_name] = []\n",
    "    tmp_mean_classes[class_name] = []\n",
    "    for subcategory in subcategories:\n",
    "        matching_rows = data_csv[data_csv['Sub-behavior'] == subcategory]\n",
    "        \n",
    "        data_behavior[subcategory] = matching_rows\n",
    "        data_classes[class_name].append(matching_rows)\n",
    "\n",
    "        mean_length = matching_rows['Seconds'].mean()\n",
    "        mean_behavior[subcategory] = mean_length\n",
    "        tmp_mean_classes[class_name].append(mean_length)"
   ]
  },
  {
   "cell_type": "code",
   "execution_count": 7,
   "metadata": {},
   "outputs": [
    {
     "name": "stdout",
     "output_type": "stream",
     "text": [
      "{'eating burger': 9.061158333333333, 'eating cake': 9.397666666666668, 'eating carrots': 9.586158333333334, 'eating chips': 9.224266666666665, 'eating doughnuts': 9.300849999999999, 'eating hotdog': 9.29575, 'eating ice cream': 9.532041666666666, 'eating spaghetti': 9.236433333333332, 'eating watermelon': 9.1456, 'sucking lolly': 9.51235, 'tasting beer': 9.470958333333334, 'tasting food': 9.445275, 'tasting wine': 9.342016666666666, 'sipping cup': 9.159541666666666, 'texting': 9.412941666666667, 'talking on cell phone': 9.581116666666667, 'looking at phone': 9.545016666666667, 'smoking': 9.559416666666667, 'smoking hookah': 9.235791666666668, 'smoking pipe': 9.552491666666667, 'sleeping': 9.253166666666665, 'yawning': 8.597158333333333, 'headbanging': 9.244641666666666, 'headbutting': 8.393849999999999, 'shaking head': 9.2691, 'scrubbing face': 9.550066666666664, 'putting in contact lenses': 9.4923, 'putting on eyeliner': 9.40545, 'putting on foundation': 9.669425, 'putting on lipstick': 9.362266666666667, 'putting on mascara': 9.478708333333335, 'brushing hair': 9.361466666666667, 'brushing teeth': 9.307666666666668, 'braiding hair': 9.552291666666667, 'combing hair': 9.301775, 'dyeing eyebrows': 9.514625, 'dyeing hair': 9.181916666666666}\n",
      "{'food': 9.336433333333332, 'phone': 9.513025, 'smoking': 9.449233333333334, 'fatigue': 8.951583333333334, 'selfcare': 9.431496527777776}\n"
     ]
    }
   ],
   "source": [
    "#print the means\n",
    "print(mean_behavior)\n",
    "mean_classes = {}\n",
    "for class_name, subcategories in tmp_mean_classes.items():\n",
    "    mean_classes[class_name] = np.mean(tmp_mean_classes[class_name])\n",
    "print(mean_classes)"
   ]
  }
 ],
 "metadata": {
  "kernelspec": {
   "display_name": "data_incdec",
   "language": "python",
   "name": "python3"
  },
  "language_info": {
   "codemirror_mode": {
    "name": "ipython",
    "version": 3
   },
   "file_extension": ".py",
   "mimetype": "text/x-python",
   "name": "python",
   "nbconvert_exporter": "python",
   "pygments_lexer": "ipython3",
   "version": "3.9.13"
  }
 },
 "nbformat": 4,
 "nbformat_minor": 2
}
